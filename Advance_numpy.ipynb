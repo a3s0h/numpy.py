{
  "nbformat": 4,
  "nbformat_minor": 0,
  "metadata": {
    "colab": {
      "provenance": [],
      "collapsed_sections": [
        "21hGJ7nb2t21",
        "R3Af_lF95XkM"
      ],
      "authorship_tag": "ABX9TyPoRqKKp+6RceCUmEAtolpA",
      "include_colab_link": true
    },
    "kernelspec": {
      "name": "python3",
      "display_name": "Python 3"
    },
    "language_info": {
      "name": "python"
    }
  },
  "cells": [
    {
      "cell_type": "markdown",
      "metadata": {
        "id": "view-in-github",
        "colab_type": "text"
      },
      "source": [
        "<a href=\"https://colab.research.google.com/github/a3s0h/numpy.py/blob/main/Advance_numpy.ipynb\" target=\"_parent\"><img src=\"https://colab.research.google.com/assets/colab-badge.svg\" alt=\"Open In Colab\"/></a>"
      ]
    },
    {
      "cell_type": "markdown",
      "source": [
        "# **Comparison btw numpy array and lists**"
      ],
      "metadata": {
        "id": "21hGJ7nb2t21"
      }
    },
    {
      "cell_type": "markdown",
      "source": [
        "1) speed "
      ],
      "metadata": {
        "id": "ygUv55BK23NZ"
      }
    },
    {
      "cell_type": "code",
      "execution_count": 3,
      "metadata": {
        "colab": {
          "base_uri": "https://localhost:8080/"
        },
        "id": "GP7_RMZe2bKM",
        "outputId": "4dfcff57-ce34-4fd1-f800-97c3f944493b"
      },
      "outputs": [
        {
          "output_type": "stream",
          "name": "stdout",
          "text": [
            "2.47200870513916\n"
          ]
        }
      ],
      "source": [
        "# list\n",
        "a = [i for i in range(10000000)]\n",
        "b = [i for i in range(10000000,20000000)]\n",
        "\n",
        "c = []\n",
        "import time\n",
        "start = time.time()\n",
        "for i in range(len(a)):\n",
        "  c.append(a[i] + b[i])\n",
        "print(time.time()-start)"
      ]
    },
    {
      "cell_type": "code",
      "source": [
        "# numpy\n",
        "import numpy as np\n",
        "a = np.arange(10000000)\n",
        "b = np.arange(10000000,20000000)\n",
        "import time\n",
        "start = time.time()\n",
        "c = a+b\n",
        "print(time.time()-start)"
      ],
      "metadata": {
        "colab": {
          "base_uri": "https://localhost:8080/"
        },
        "id": "QoQGjY8M3Sfj",
        "outputId": "a2722c9f-39d0-47d5-d2cd-1e860c114944"
      },
      "execution_count": 4,
      "outputs": [
        {
          "output_type": "stream",
          "name": "stdout",
          "text": [
            "0.4197361469268799\n"
          ]
        }
      ]
    },
    {
      "cell_type": "code",
      "source": [
        "2.47/0.41    # numpy is alot faster than python list"
      ],
      "metadata": {
        "colab": {
          "base_uri": "https://localhost:8080/"
        },
        "id": "9wdIf5-g3m7E",
        "outputId": "05152b12-0062-4f8d-856c-d9b7afb59eb6"
      },
      "execution_count": 5,
      "outputs": [
        {
          "output_type": "execute_result",
          "data": {
            "text/plain": [
              "6.02439024390244"
            ]
          },
          "metadata": {},
          "execution_count": 5
        }
      ]
    },
    {
      "cell_type": "markdown",
      "source": [
        "2) memory"
      ],
      "metadata": {
        "id": "XRv2lOyH35N5"
      }
    },
    {
      "cell_type": "code",
      "source": [
        "# list\n",
        "a = [i for i in range(10000000)]\n",
        "# b = [i for i in range(10000000,20000000)]\n",
        "import sys   # sys(system) \n",
        "sys.getsizeof(a)        # getsize fn in sys module returns the memory size of any data  "
      ],
      "metadata": {
        "colab": {
          "base_uri": "https://localhost:8080/"
        },
        "id": "T-Tcx0dh3uSZ",
        "outputId": "912f9928-c4f6-4223-fb0f-3fa15f33c68c"
      },
      "execution_count": 7,
      "outputs": [
        {
          "output_type": "execute_result",
          "data": {
            "text/plain": [
              "81528048"
            ]
          },
          "metadata": {},
          "execution_count": 7
        }
      ]
    },
    {
      "cell_type": "code",
      "source": [
        "# numpy array\n",
        "a = np.arange(10000000,dtype=np.int32)\n",
        "sys.getsizeof(a)"
      ],
      "metadata": {
        "colab": {
          "base_uri": "https://localhost:8080/"
        },
        "id": "s-uFDxmN4T3u",
        "outputId": "848e3aba-4040-470c-e177-01d42d6a369f"
      },
      "execution_count": 8,
      "outputs": [
        {
          "output_type": "execute_result",
          "data": {
            "text/plain": [
              "40000104"
            ]
          },
          "metadata": {},
          "execution_count": 8
        }
      ]
    },
    {
      "cell_type": "markdown",
      "source": [
        "3) convinience "
      ],
      "metadata": {
        "id": "Qf50bQRC5Rjv"
      }
    },
    {
      "cell_type": "markdown",
      "source": [
        "# **Advance Indexing**"
      ],
      "metadata": {
        "id": "R3Af_lF95XkM"
      }
    },
    {
      "cell_type": "code",
      "source": [
        "a = np.arange(24).reshape(6,4)\n",
        "a"
      ],
      "metadata": {
        "colab": {
          "base_uri": "https://localhost:8080/"
        },
        "id": "VtPx6n_R4e2v",
        "outputId": "70285411-d830-4d51-b0a4-fb91525f24e6"
      },
      "execution_count": 11,
      "outputs": [
        {
          "output_type": "execute_result",
          "data": {
            "text/plain": [
              "array([[ 0,  1,  2,  3],\n",
              "       [ 4,  5,  6,  7],\n",
              "       [ 8,  9, 10, 11],\n",
              "       [12, 13, 14, 15],\n",
              "       [16, 17, 18, 19],\n",
              "       [20, 21, 22, 23]])"
            ]
          },
          "metadata": {},
          "execution_count": 11
        }
      ]
    },
    {
      "cell_type": "markdown",
      "source": [
        "1) Fancy Indexing"
      ],
      "metadata": {
        "id": "xUD8dQ_i5sfq"
      }
    },
    {
      "cell_type": "code",
      "source": [
        "# question >  we want 1st row 3rd row and 4rth row from a\n",
        "a[[0,2,3]]         # [[0rth row , 3rd row ,4rth row]]   just enter the rows you want to access inside a list "
      ],
      "metadata": {
        "colab": {
          "base_uri": "https://localhost:8080/"
        },
        "id": "voW0crNs5rgw",
        "outputId": "42ae23cd-59ce-46a9-c9fc-bea9082f1f87"
      },
      "execution_count": 12,
      "outputs": [
        {
          "output_type": "execute_result",
          "data": {
            "text/plain": [
              "array([[ 0,  1,  2,  3],\n",
              "       [ 8,  9, 10, 11],\n",
              "       [12, 13, 14, 15]])"
            ]
          },
          "metadata": {},
          "execution_count": 12
        }
      ]
    },
    {
      "cell_type": "code",
      "source": [
        "# 1st , 3rd , 4rth and 6th row \n",
        "a[[0,2,3,5]]"
      ],
      "metadata": {
        "colab": {
          "base_uri": "https://localhost:8080/"
        },
        "id": "EJjl2YRF6LNH",
        "outputId": "7e75a438-3cf5-4298-c481-f642ae0427e1"
      },
      "execution_count": 13,
      "outputs": [
        {
          "output_type": "execute_result",
          "data": {
            "text/plain": [
              "array([[ 0,  1,  2,  3],\n",
              "       [ 8,  9, 10, 11],\n",
              "       [12, 13, 14, 15],\n",
              "       [20, 21, 22, 23]])"
            ]
          },
          "metadata": {},
          "execution_count": 13
        }
      ]
    },
    {
      "cell_type": "code",
      "source": [
        "# 1st , 2nd and 3rd column\n",
        "a[:,[0,2,3]]"
      ],
      "metadata": {
        "colab": {
          "base_uri": "https://localhost:8080/"
        },
        "id": "Uw9Mj_nm6X-2",
        "outputId": "c9f33154-211d-4f2b-a100-fd1ce4cae7cf"
      },
      "execution_count": 16,
      "outputs": [
        {
          "output_type": "execute_result",
          "data": {
            "text/plain": [
              "array([[ 0,  2,  3],\n",
              "       [ 4,  6,  7],\n",
              "       [ 8, 10, 11],\n",
              "       [12, 14, 15],\n",
              "       [16, 18, 19],\n",
              "       [20, 22, 23]])"
            ]
          },
          "metadata": {},
          "execution_count": 16
        }
      ]
    },
    {
      "cell_type": "markdown",
      "source": [
        "2) Boolean Indexing\n",
        "or condition based indexing "
      ],
      "metadata": {
        "id": "3dhQadCa6swA"
      }
    },
    {
      "cell_type": "code",
      "source": [
        "a = np.random.randint(1,100,24).reshape(6,4)       # (low , high, no. of elements)\n",
        "a"
      ],
      "metadata": {
        "colab": {
          "base_uri": "https://localhost:8080/"
        },
        "id": "Z9slZfOA6ikA",
        "outputId": "71c3037b-b3a6-4dea-bb5a-7cafb6086776"
      },
      "execution_count": 29,
      "outputs": [
        {
          "output_type": "execute_result",
          "data": {
            "text/plain": [
              "array([[ 3, 31, 44, 74],\n",
              "       [17, 14, 54, 62],\n",
              "       [ 3, 90, 38, 29],\n",
              "       [96, 82, 38, 46],\n",
              "       [78,  1, 41, 93],\n",
              "       [46, 23,  8, 87]])"
            ]
          },
          "metadata": {},
          "execution_count": 29
        }
      ]
    },
    {
      "cell_type": "code",
      "source": [
        "# find all number greater than 50\n",
        "a>50"
      ],
      "metadata": {
        "colab": {
          "base_uri": "https://localhost:8080/"
        },
        "id": "6ci1ZOLp7N-h",
        "outputId": "714fb9fa-144c-4209-efb8-f0beed4b7a0b"
      },
      "execution_count": 20,
      "outputs": [
        {
          "output_type": "execute_result",
          "data": {
            "text/plain": [
              "array([[ True,  True,  True,  True],\n",
              "       [False,  True,  True,  True],\n",
              "       [False, False, False,  True],\n",
              "       [False,  True, False, False],\n",
              "       [ True,  True,  True,  True],\n",
              "       [ True, False, False,  True]])"
            ]
          },
          "metadata": {},
          "execution_count": 20
        }
      ]
    },
    {
      "cell_type": "code",
      "source": [
        "a[a>50]   # we'll get only those numbers which are greater than 50"
      ],
      "metadata": {
        "colab": {
          "base_uri": "https://localhost:8080/"
        },
        "id": "KJ4VI4SM7W2l",
        "outputId": "7c26b361-d122-4262-acee-dd93ed3c7161"
      },
      "execution_count": 21,
      "outputs": [
        {
          "output_type": "execute_result",
          "data": {
            "text/plain": [
              "array([81, 64, 53, 55, 57, 68, 80, 80, 97, 54, 95, 51, 93, 93, 58])"
            ]
          },
          "metadata": {},
          "execution_count": 21
        }
      ]
    },
    {
      "cell_type": "code",
      "source": [
        "# find all even numbers in a\n",
        "a[a%2==0]"
      ],
      "metadata": {
        "colab": {
          "base_uri": "https://localhost:8080/"
        },
        "id": "X_SxjFtD7heS",
        "outputId": "30b60ed4-a631-4deb-cf62-abfebcae5837"
      },
      "execution_count": 23,
      "outputs": [
        {
          "output_type": "execute_result",
          "data": {
            "text/plain": [
              "array([64, 68, 80, 22, 18, 80, 50, 54,  4, 58])"
            ]
          },
          "metadata": {},
          "execution_count": 23
        }
      ]
    },
    {
      "cell_type": "code",
      "source": [
        "# numbers greater than 50 and also even\n",
        "a[(a>50) & (a%2==0)]     # we are working with boolean therefore we are using '&' and not 'and'  because 'and is logical 'and' and '&' is bitwise and "
      ],
      "metadata": {
        "colab": {
          "base_uri": "https://localhost:8080/"
        },
        "id": "HsbIhvF97vB_",
        "outputId": "72cf9e5e-0727-480a-98ae-b8e37caff0af"
      },
      "execution_count": 27,
      "outputs": [
        {
          "output_type": "execute_result",
          "data": {
            "text/plain": [
              "array([64, 68, 80, 80, 54, 58])"
            ]
          },
          "metadata": {},
          "execution_count": 27
        }
      ]
    },
    {
      "cell_type": "code",
      "source": [
        "# numbers not divisble by 7\n",
        "a[~(a%7==0)]"
      ],
      "metadata": {
        "colab": {
          "base_uri": "https://localhost:8080/"
        },
        "id": "zSGZYL6376Mk",
        "outputId": "870f69cd-f713-40a8-b763-00f76d549d61"
      },
      "execution_count": 32,
      "outputs": [
        {
          "output_type": "execute_result",
          "data": {
            "text/plain": [
              "array([ 3, 31, 44, 74, 17, 54, 62,  3, 90, 38, 29, 96, 82, 38, 46, 78,  1,\n",
              "       41, 93, 46, 23,  8, 87])"
            ]
          },
          "metadata": {},
          "execution_count": 32
        }
      ]
    },
    {
      "cell_type": "markdown",
      "source": [
        "# **Broadcasting**\n",
        "\n",
        "\n",
        "\n",
        "*   it tells how numpy treats two arrays with different shapes while performing arithematic operations \n",
        "*   The smaller array is brodcasted across the larger array so that they have compatible shapes \n",
        "\n"
      ],
      "metadata": {
        "id": "4Hp2hRFK8vxE"
      }
    },
    {
      "cell_type": "code",
      "source": [
        "a=np.arange(6).reshape(2,3)\n",
        "b = np.arange(6,12).reshape(2,3)\n",
        "print(\"a: \",a)\n",
        "print(\"\\nb: \",b)"
      ],
      "metadata": {
        "colab": {
          "base_uri": "https://localhost:8080/"
        },
        "id": "-YUQuyxU8X6K",
        "outputId": "76bac5ac-1bc6-4808-9039-33715404c027"
      },
      "execution_count": 36,
      "outputs": [
        {
          "output_type": "stream",
          "name": "stdout",
          "text": [
            "a:  [[0 1 2]\n",
            " [3 4 5]]\n",
            "\n",
            "b:  [[ 6  7  8]\n",
            " [ 9 10 11]]\n"
          ]
        }
      ]
    },
    {
      "cell_type": "code",
      "source": [
        "print(a+b)"
      ],
      "metadata": {
        "colab": {
          "base_uri": "https://localhost:8080/"
        },
        "id": "7ml0MibG91b6",
        "outputId": "2aa41281-1dea-47fc-dd25-ccda5de95c9e"
      },
      "execution_count": 37,
      "outputs": [
        {
          "output_type": "stream",
          "name": "stdout",
          "text": [
            "[[ 6  8 10]\n",
            " [12 14 16]]\n"
          ]
        }
      ]
    },
    {
      "cell_type": "code",
      "source": [
        "a=np.arange(6).reshape(2,3)\n",
        "b = np.arange(3).reshape(1,3)\n",
        "print(\"a: \",a)\n",
        "print(\"\\nb: \",b)"
      ],
      "metadata": {
        "colab": {
          "base_uri": "https://localhost:8080/"
        },
        "id": "11svimwh-GnQ",
        "outputId": "1f008510-4d52-4ca7-97da-99e55aff39e7"
      },
      "execution_count": 38,
      "outputs": [
        {
          "output_type": "stream",
          "name": "stdout",
          "text": [
            "a:  [[0 1 2]\n",
            " [3 4 5]]\n",
            "\n",
            "b:  [[0 1 2]]\n"
          ]
        }
      ]
    },
    {
      "cell_type": "code",
      "source": [
        "print(a+b)      # we did addition between 2 different shapes array , but how ???? that is explained by broadcasting"
      ],
      "metadata": {
        "colab": {
          "base_uri": "https://localhost:8080/"
        },
        "id": "ESyHmIy7-QKV",
        "outputId": "f0da3008-5243-4e9d-82d7-8b41182ea3c1"
      },
      "execution_count": 39,
      "outputs": [
        {
          "output_type": "stream",
          "name": "stdout",
          "text": [
            "[[0 2 4]\n",
            " [3 5 7]]\n"
          ]
        }
      ]
    },
    {
      "cell_type": "markdown",
      "source": [
        "![fig_broadcast_visual_1.png](data:image/png;base64,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)"
      ],
      "metadata": {
        "id": "fHeimBoqB09J"
      }
    },
    {
      "cell_type": "markdown",
      "source": [
        "# **Broadcasting Rules**\n",
        "\n",
        "\n",
        "1.   if dimensions are different eg., (3,2) and (3,) then add 1 dimension by adding 1 to the head of the array with smaller dimension i.e., (3,1).\n",
        "eg., (3,3,3) and (3,)  then make (3,) -> (1,1,3)\n",
        "2.   make each dimesion of two arrays the same size .\n",
        "eg.,(3,3) (3,) . make (3,) -> (1,3) and now stretch that 1 to the size of other array . thereofore final arrays ize will be (1,3) -> (3,3). If there is no '1' then broadcasting cannot be performed \n",
        "\n"
      ],
      "metadata": {
        "id": "QDptFm3kCy33"
      }
    },
    {
      "cell_type": "markdown",
      "source": [
        "# **Working with mathematical formulas**"
      ],
      "metadata": {
        "id": "-Js1WpzuMbP5"
      }
    },
    {
      "cell_type": "markdown",
      "source": [
        "1) sigmoid -> converts a given number btw [0,1]"
      ],
      "metadata": {
        "id": "z4XIjK03Mh5r"
      }
    },
    {
      "cell_type": "markdown",
      "source": [
        "![1_X-e-cTxVrYbLwcqqLHh75g.png](data:image/png;base64,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)"
      ],
      "metadata": {
        "id": "DACnCBdUMz_s"
      }
    },
    {
      "cell_type": "code",
      "source": [
        "# sigmoid function\n",
        "def sigmoid(array):\n",
        "  return 1/(1+np.exp(-(array)))\n",
        "\n",
        "a = np.arange(10)\n",
        "sigmoid(a)"
      ],
      "metadata": {
        "colab": {
          "base_uri": "https://localhost:8080/"
        },
        "id": "_LQ77YuN-TPN",
        "outputId": "b0c7512b-ef73-4372-9b15-4c3d5438159d"
      },
      "execution_count": 41,
      "outputs": [
        {
          "output_type": "execute_result",
          "data": {
            "text/plain": [
              "array([0.5       , 0.73105858, 0.88079708, 0.95257413, 0.98201379,\n",
              "       0.99330715, 0.99752738, 0.99908895, 0.99966465, 0.99987661])"
            ]
          },
          "metadata": {},
          "execution_count": 41
        }
      ]
    },
    {
      "cell_type": "markdown",
      "source": [
        "mean squared error -> it is a type of a loss function  . eg., mse =(original - predicted) ^2   , this is for one point . For multiple points we calculate mse and then calculate average of all mse's "
      ],
      "metadata": {
        "id": "dNnBWK6lNiKT"
      }
    },
    {
      "cell_type": "markdown",
      "source": [
        "![th (4).jfif](data:image/jpeg;base64,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)"
      ],
      "metadata": {
        "id": "LA00UREqNxMT"
      }
    },
    {
      "cell_type": "code",
      "source": [
        "actual = np.random.randint(1,50,25)\n",
        "predicted = np.random.randint(1,50,25)"
      ],
      "metadata": {
        "id": "Pdsw7BGTNGH8"
      },
      "execution_count": 44,
      "outputs": []
    },
    {
      "cell_type": "code",
      "source": [
        "actual"
      ],
      "metadata": {
        "colab": {
          "base_uri": "https://localhost:8080/"
        },
        "id": "SSuqAIXSOgOw",
        "outputId": "25a15a2c-7c02-4b7b-b55c-9911af8f7cf0"
      },
      "execution_count": 45,
      "outputs": [
        {
          "output_type": "execute_result",
          "data": {
            "text/plain": [
              "array([11, 43, 22, 33,  8, 20, 27, 26, 25, 31, 18,  4, 20, 48,  8, 40, 36,\n",
              "       46, 23,  8, 36, 14, 28, 41,  8])"
            ]
          },
          "metadata": {},
          "execution_count": 45
        }
      ]
    },
    {
      "cell_type": "code",
      "source": [
        "predicted"
      ],
      "metadata": {
        "colab": {
          "base_uri": "https://localhost:8080/"
        },
        "id": "_VOAslzXOkmd",
        "outputId": "56543e21-335e-47a1-976f-bce0e276925e"
      },
      "execution_count": 46,
      "outputs": [
        {
          "output_type": "execute_result",
          "data": {
            "text/plain": [
              "array([38, 48, 36,  3, 24,  6, 20, 40, 23, 22, 19, 43, 38, 14, 13, 32, 49,\n",
              "        8, 31, 10, 12, 18, 13,  7, 11])"
            ]
          },
          "metadata": {},
          "execution_count": 46
        }
      ]
    },
    {
      "cell_type": "code",
      "source": [
        "def mse(actual,predicted):\n",
        "  return np.mean((actual-predicted)**2)\n",
        "  \n",
        "mse(actual,predicted)"
      ],
      "metadata": {
        "colab": {
          "base_uri": "https://localhost:8080/"
        },
        "id": "NcmtSgwpOlXB",
        "outputId": "5dadafed-9360-470a-a8a3-a6c10be9f7c2"
      },
      "execution_count": 47,
      "outputs": [
        {
          "output_type": "execute_result",
          "data": {
            "text/plain": [
              "375.44"
            ]
          },
          "metadata": {},
          "execution_count": 47
        }
      ]
    },
    {
      "cell_type": "markdown",
      "source": [
        "binary crossentropy"
      ],
      "metadata": {
        "id": "9FEqvPlfPERm"
      }
    },
    {
      "cell_type": "markdown",
      "source": [
        "![th (5).jfif](data:image/jpeg;base64,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)"
      ],
      "metadata": {
        "id": "xZvPnpmWPPGz"
      }
    },
    {
      "cell_type": "code",
      "source": [
        "# make function for binary crossentropy\n"
      ],
      "metadata": {
        "id": "AXg_HWizO6xy"
      },
      "execution_count": null,
      "outputs": []
    },
    {
      "cell_type": "markdown",
      "source": [
        "# **Working with missing values**"
      ],
      "metadata": {
        "id": "DnhN6hhmPcky"
      }
    },
    {
      "cell_type": "code",
      "source": [
        "a = np.array([1,2,3,4,np.nan,6])       # note: nan is considered as missing value while none is not "
      ],
      "metadata": {
        "id": "EzxwCzSBPfHx"
      },
      "execution_count": 48,
      "outputs": []
    },
    {
      "cell_type": "code",
      "source": [
        "a"
      ],
      "metadata": {
        "colab": {
          "base_uri": "https://localhost:8080/"
        },
        "id": "pTpBW1Y2PpkI",
        "outputId": "6d57e957-20c3-4063-d923-1e9cbb20aede"
      },
      "execution_count": 49,
      "outputs": [
        {
          "output_type": "execute_result",
          "data": {
            "text/plain": [
              "array([ 1.,  2.,  3.,  4., nan,  6.])"
            ]
          },
          "metadata": {},
          "execution_count": 49
        }
      ]
    },
    {
      "cell_type": "code",
      "source": [
        "# removing missing values \n",
        "# using boolean indexing\n",
        "a[~np.isnan(a)]   # np.isnan() will return true if missing value is there therefore we used not in front because we need not missing values "
      ],
      "metadata": {
        "colab": {
          "base_uri": "https://localhost:8080/"
        },
        "id": "E1tVCWRtPqGD",
        "outputId": "ce2ba030-cebd-4a1b-e922-9e58e59db3e9"
      },
      "execution_count": 54,
      "outputs": [
        {
          "output_type": "execute_result",
          "data": {
            "text/plain": [
              "array([1., 2., 3., 4., 6.])"
            ]
          },
          "metadata": {},
          "execution_count": 54
        }
      ]
    },
    {
      "cell_type": "markdown",
      "source": [
        "# **Plotting Grpahs**"
      ],
      "metadata": {
        "id": "eMptmMBEgBV5"
      }
    },
    {
      "cell_type": "code",
      "source": [
        "# plotting x=y\n",
        "x=np.linspace(-10,10,100)\n",
        "y=x\n",
        "import matplotlib.pyplot as plt\n",
        "plt.plot(x,y)      # shape must be same for plotting"
      ],
      "metadata": {
        "colab": {
          "base_uri": "https://localhost:8080/",
          "height": 282
        },
        "id": "y7kJW4mmQBSs",
        "outputId": "7f030f06-fc6d-4913-def1-ee66600b2666"
      },
      "execution_count": 55,
      "outputs": [
        {
          "output_type": "execute_result",
          "data": {
            "text/plain": [
              "[<matplotlib.lines.Line2D at 0x7f220af137c0>]"
            ]
          },
          "metadata": {},
          "execution_count": 55
        },
        {
          "output_type": "display_data",
          "data": {
            "text/plain": [
              "<Figure size 432x288 with 1 Axes>"
            ],
            "image/png": "[encoded data removed]"
          },
          "metadata": {
            "needs_background": "light"
          }
        }
      ]
    },
    {
      "cell_type": "code",
      "source": [
        "# y=x^2 (parabola)\n",
        "x=np.linspace(-10,10,100)\n",
        "y = x**2\n",
        "\n",
        "plt.plot(x,y)"
      ],
      "metadata": {
        "colab": {
          "base_uri": "https://localhost:8080/",
          "height": 282
        },
        "id": "Vaj5a_u5gXdB",
        "outputId": "1de60eb5-ae54-45a0-bfd8-76d3173d6e08"
      },
      "execution_count": 56,
      "outputs": [
        {
          "output_type": "execute_result",
          "data": {
            "text/plain": [
              "[<matplotlib.lines.Line2D at 0x7f2220a37820>]"
            ]
          },
          "metadata": {},
          "execution_count": 56
        },
        {
          "output_type": "display_data",
          "data": {
            "text/plain": [
              "<Figure size 432x288 with 1 Axes>"
            ],
            "image/png": "[encoded data removed]"
          },
          "metadata": {
            "needs_background": "light"
          }
        }
      ]
    },
    {
      "cell_type": "code",
      "source": [
        "# y=sin(x)\n",
        "x=np.linspace(-10,10,100)\n",
        "y = np.sin(x)\n",
        "plt.plot(x,y)"
      ],
      "metadata": {
        "colab": {
          "base_uri": "https://localhost:8080/",
          "height": 282
        },
        "id": "BUJsxJGRgkyJ",
        "outputId": "c8f634f3-3d49-415d-8e75-213ecb058610"
      },
      "execution_count": 57,
      "outputs": [
        {
          "output_type": "execute_result",
          "data": {
            "text/plain": [
              "[<matplotlib.lines.Line2D at 0x7f221f661d30>]"
            ]
          },
          "metadata": {},
          "execution_count": 57
        },
        {
          "output_type": "display_data",
          "data": {
            "text/plain": [
              "<Figure size 432x288 with 1 Axes>"
            ],
            "image/png": "[encoded data removed]"
          },
          "metadata": {
            "needs_background": "light"
          }
        }
      ]
    },
    {
      "cell_type": "code",
      "source": [
        "# y=xlogx\n",
        "x=np.linspace(-10,10,100)\n",
        "y = x * np.log(x)\n",
        "\n",
        "plt.plot(x,y)"
      ],
      "metadata": {
        "colab": {
          "base_uri": "https://localhost:8080/",
          "height": 317
        },
        "id": "rY1YuNF7gzpR",
        "outputId": "2f8b9132-2a3f-407b-d248-71cb780384a7"
      },
      "execution_count": 58,
      "outputs": [
        {
          "output_type": "stream",
          "name": "stderr",
          "text": [
            "<ipython-input-58-1f352ea0ebb6>:3: RuntimeWarning: invalid value encountered in log\n",
            "  y = x * np.log(x)\n"
          ]
        },
        {
          "output_type": "execute_result",
          "data": {
            "text/plain": [
              "[<matplotlib.lines.Line2D at 0x7f221f2fe400>]"
            ]
          },
          "metadata": {},
          "execution_count": 58
        },
        {
          "output_type": "display_data",
          "data": {
            "text/plain": [
              "<Figure size 432x288 with 1 Axes>"
            ],
            "image/png": "[encoded data removed]"
          },
          "metadata": {
            "needs_background": "light"
          }
        }
      ]
    },
    {
      "cell_type": "code",
      "source": [
        "# graph of sigmoid\n",
        "x=np.linspace(-10,10,100)\n",
        "y=1/(1+np.exp(-(x)))\n",
        "\n",
        "plt.plot(x,y)"
      ],
      "metadata": {
        "colab": {
          "base_uri": "https://localhost:8080/",
          "height": 282
        },
        "id": "rfA68mYyg-CB",
        "outputId": "7f19e55a-7bf8-470e-8e97-c3ab1ad023da"
      },
      "execution_count": 59,
      "outputs": [
        {
          "output_type": "execute_result",
          "data": {
            "text/plain": [
              "[<matplotlib.lines.Line2D at 0x7f221d5efd90>]"
            ]
          },
          "metadata": {},
          "execution_count": 59
        },
        {
          "output_type": "display_data",
          "data": {
            "text/plain": [
              "<Figure size 432x288 with 1 Axes>"
            ],
            "image/png": "[encoded data removed]"
          },
          "metadata": {
            "needs_background": "light"
          }
        }
      ]
    },
    {
      "cell_type": "code",
      "source": [],
      "metadata": {
        "id": "FkO2Qxf5hNog"
      },
      "execution_count": null,
      "outputs": []
    }
  ]
}